{
 "cells": [
  {
   "cell_type": "markdown",
   "metadata": {},
   "source": [
    "# Table of contents\n",
    "\n",
    "1. [Theoretical foundations](#theoretical_foundations)\n",
    "1. [Constants](#constants)\n",
    "1. [Imports](#imports)\n",
    "1. [```pandas``` options](#pandas_options)\n",
    "1. [Functions definitions](#functions_definitions)\n",
    "1. [Organisms list for phylogenetic profiles](#organisms-list-for-phylogenetic-profiles)\n",
    "1. [Results data](#results_data)\n",
    "    1. [Permutation tests results](#permutation_tests_results)\n",
    "        1. [Get the networks organisms names from the results filenames](#get_the_networks_organisms_names_from_the_results_filenames)\n",
    "        1. [Read](#prwlr-read-data)\n",
    "            1. [Raw numbers](#raw_numbers)\n",
    "            1. [p-values](#pvalue)\n",
    "        1. [Transform and annotate](#transform_and_annotate)\n",
    "            1. [Merging with numerical values](#merging_with_numerical_values)\n",
    "            1. [Taxonomical annotations](#taxonomical_annotations)\n",
    "            1. [Mark which direction the native values are tailed](#mark_which_direction_the_native_values_are_tailed)\n",
    "            1. [Drop columns no longer neccessary](#drop_columns_no_longer_neccessary)\n",
    "            1. [Drop duplicates](#drop_duplicates)\n",
    "        1. [Save](#prwlr-save)\n",
    "    1. [Network Enrichment Analysis Test results](#network_enrichment_analysis_test_results)\n",
    "        1. [Read](#r-neat-read)\n",
    "    1. [Combined results of permutation tests and NEAT](#combined_results_of_permutatation_tests_and_neat)\n",
    "        1. [Merge](#combined-merge)\n",
    "        1. [Save](#combined-save)\n",
    "1. [Plotting](#plotting)\n",
    "    1. [Convert combined results to ```dot``` files](#combined-to-dot)\n",
    "        1. [Read](#plotting-read)\n",
    "        1. [Save](#plotting-save)\n",
    "    1. [Convert ```dot``` to ```png```](#dot-to-png)"
   ]
  },
  {
   "cell_type": "markdown",
   "metadata": {},
   "source": [
    "<a class=anchor id=theoretical_foundations></a>\n",
    "# Theoretical foundations\n",
    "\n",
    "This notebook extends the one named ```physical-interactions-no-ko-dups-removal```.\n",
    "\n",
    "It focuses on visualization and interpretation of the results obtained in ```physical-interactions-no-ko-dups-removal```.\n",
    "\n",
    "It does **NOT** replace the results visualization part of the stem-notebook ```physical-interactions-no-ko-dups-removal```\n",
    "\n",
    "The evolutionary *new* genes can were called modificators by Simon"
   ]
  },
  {
   "cell_type": "markdown",
   "metadata": {},
   "source": [
    "<a class=anchor id=constants></a>\n",
    "# Constants\n",
    "\n",
    "**Directories paths must have the trailing slash**"
   ]
  },
  {
   "cell_type": "code",
   "execution_count": null,
   "metadata": {
    "code_folding": []
   },
   "outputs": [],
   "source": [
    "# Constants\n",
    "sep='\\t'\n",
    "PERMUTATION_TESTS_RESULTS_DIRECTORY = './physical-interactions-no-ko-dups-removal/'\n",
    "R_NEAT_RESULTS_PATH = './r-neat/'\n",
    "R_NEAT_PRWLR_JOINED_PATH = './r-neat-prwlr-joined/'\n",
    "R_NEAT_PRWLR_JOINED_PLOTS_PATH = './plots/'"
   ]
  },
  {
   "cell_type": "markdown",
   "metadata": {},
   "source": [
    "<a class=anchor id=imports></a>\n",
    "# Imports"
   ]
  },
  {
   "cell_type": "code",
   "execution_count": null,
   "metadata": {
    "code_folding": []
   },
   "outputs": [],
   "source": [
    "# imports\n",
    "import prwlr\n",
    "import pandas as pd\n",
    "from glob import glob\n",
    "import pygraphviz\n",
    "from functools import partial\n",
    "import matplotlib.pyplot as plt\n",
    "%matplotlib inline"
   ]
  },
  {
   "cell_type": "markdown",
   "metadata": {},
   "source": [
    "<a class=anchor id=pandas_options></a>\n",
    "# ```pandas``` options"
   ]
  },
  {
   "cell_type": "code",
   "execution_count": null,
   "metadata": {
    "code_folding": [
     0
    ]
   },
   "outputs": [],
   "source": [
    "# pandas options\n",
    "pd.set_option('display.max_colwidth', 40)"
   ]
  },
  {
   "cell_type": "markdown",
   "metadata": {},
   "source": [
    "<a class=anchor id=functions_definitions></a>\n",
    "# Functions definitions"
   ]
  },
  {
   "cell_type": "code",
   "execution_count": null,
   "metadata": {
    "code_folding": [
     0
    ]
   },
   "outputs": [],
   "source": [
    "# assign_taxonomy\n",
    "def assign_taxonomy(\n",
    "    row,\n",
    "    archea,\n",
    "    bacteria,\n",
    "    eukaryots,\n",
    "):\n",
    "    \"\"\"\n",
    "    Assign the taxonomical domain depending on whether\n",
    "    the organisms passed are in present in\n",
    "    the phylogenetic profiles EXLUSIVELY. In case of ambiguity\n",
    "    it is assigned as <mixed>.\n",
    "    \n",
    "    Parameters\n",
    "    -------\n",
    "    row: pandas.DataFrame row\n",
    "        Suitable for pandas.DataFrame.apply method.\n",
    "    \n",
    "    Returns\n",
    "    -------\n",
    "    str, abbreviated name of the domain\n",
    "        arch, bact, eukar, S_cer, mixed\n",
    "    \"\"\"\n",
    "    if prwlr.utils.isiniterable(\n",
    "        archea,\n",
    "        [IDs_names[_] for _ in row.get_present()],\n",
    "        all_present=False,\n",
    "        ) and prwlr.utils.isiniterable(\n",
    "            bacteria + eukaryots,\n",
    "            [IDs_names[_] for _ in row.get_absent()],\n",
    "            all_present=True,\n",
    "        ):\n",
    "        return 'arch'\n",
    "    elif prwlr.utils.isiniterable(\n",
    "        bacteria,\n",
    "        [IDs_names[_] for _ in row.get_present()],\n",
    "        all_present=False,\n",
    "    ) and prwlr.utils.isiniterable(\n",
    "        archea + eukaryots,\n",
    "        [IDs_names[_] for _ in row.get_absent()],\n",
    "        all_present=True,\n",
    "    ):\n",
    "        return 'bact'\n",
    "    elif prwlr.utils.isiniterable(\n",
    "        eukaryots,\n",
    "        [IDs_names[_] for _ in row.get_present()],\n",
    "        all_present=False,\n",
    "    ) and prwlr.utils.isiniterable(\n",
    "        archea + bacteria,\n",
    "        [IDs_names[_] for _ in row.get_absent()],\n",
    "        all_present=True,\n",
    "    ):\n",
    "        return 'eukar'\n",
    "    elif prwlr.utils.isiniterable(\n",
    "        archea + bacteria + eukaryots,\n",
    "        [IDs_names[_] for _ in row.get_present()],\n",
    "        all_present=True,\n",
    "    ):\n",
    "        return 'all'\n",
    "    else:\n",
    "        return 'mixed'"
   ]
  },
  {
   "cell_type": "code",
   "execution_count": null,
   "metadata": {
    "code_folding": [
     0
    ]
   },
   "outputs": [],
   "source": [
    "# mark_result_direction\n",
    "def mark_result_direction(\n",
    "    row,\n",
    "    significance_threshold=0.001,\n",
    "    native_lower_col='native_lower',\n",
    "    native_higher_col='native_higher',\n",
    "    p_value_col='p-value',\n",
    "):\n",
    "    if row[p_value_col] > significance_threshold:\n",
    "        return 'insignificant'\n",
    "    if row[native_lower_col] is row[native_higher_col]:\n",
    "        return 'equal'\n",
    "    elif row[native_lower_col] and not row[native_higher_col]:\n",
    "        return 'lower'\n",
    "    elif row[native_higher_col] and not row[native_lower_col]:\n",
    "        return 'higher'"
   ]
  },
  {
   "cell_type": "code",
   "execution_count": null,
   "metadata": {
    "code_folding": [
     0
    ]
   },
   "outputs": [],
   "source": [
    "# df2dot\n",
    "def df2dot(\n",
    "    df,\n",
    "    path,\n",
    "    nodes_source='taxa_Q',\n",
    "    nodes_target='taxa_A',\n",
    "    taxa_Q_col='taxa_Q',\n",
    "    taxa_A_col='taxa_A',\n",
    "    result_direction_col='result_direction',\n",
    "    taxonomy_common_col='taxonomy_common',\n",
    "    inter_perc_col='inter_perc',\n",
    "    empty_string_regex='^$',\n",
    "    no_ortholog_value='no_ortholog',\n",
    "    inter_perc_multiplier=100,\n",
    "    taxonomy_common_style={\n",
    "        True: 'solid',\n",
    "        False: 'dashed',\n",
    "    },\n",
    "    significance_colors={\n",
    "        'higher': 'green',\n",
    "        'lower': 'red',\n",
    "        'insignificant': 'grey',\n",
    "    },\n",
    "    dot_col_names={\n",
    "        'inter_perc': 'penwidth',\n",
    "        'result_direction': 'color',\n",
    "        'taxonomy_common': 'style',\n",
    "    }\n",
    "):\n",
    "    \"\"\"\n",
    "    Save dot file from pandas.DataFrame\n",
    "    \"\"\"\n",
    "    df = df.copy()\n",
    "    df[taxa_Q_col] = df[taxa_Q_col].str.replace(empty_string_regex, no_ortholog_value)\n",
    "    df[taxa_A_col] = df[taxa_A_col].str.replace(empty_string_regex, no_ortholog_value)\n",
    "    df[result_direction_col] = df[result_direction_col].map(significance_colors)\n",
    "    df[taxonomy_common_col] = df[taxonomy_common_col].map(taxonomy_common_style)\n",
    "    df[inter_perc_col] = df[inter_perc_col] * inter_perc_multiplier\n",
    "    df.rename(columns=dot_col_names, inplace=True)\n",
    "    G = nx.from_pandas_edgelist(\n",
    "        df=df,\n",
    "        source=nodes_source,\n",
    "        target=nodes_target,\n",
    "        edge_attr=True,\n",
    "        create_using=nx.Graph(),\n",
    "    )\n",
    "    nx.drawing.nx_pydot.write_dot(G, path)"
   ]
  },
  {
   "cell_type": "markdown",
   "metadata": {},
   "source": [
    "<a class='anchor' id='organisms-list-for-phylogenetic-profiles'></a>\n",
    "## Organisms list for phylogenetic profiles\n",
    "\n",
    "The presence of a given protein/gene ortholog in these organisms is marked as *+* or *-* (or ```True```/```False```) in the phylogenetic profiles."
   ]
  },
  {
   "cell_type": "code",
   "execution_count": null,
   "metadata": {
    "code_folding": [
     0
    ]
   },
   "outputs": [],
   "source": [
    "# organisms\n",
    "archea = [\n",
    "    'Aeropyrum pernix',\n",
    "    'Sulfolobus islandicus', \n",
    "]\n",
    "\n",
    "bacteria = [\n",
    "    'Agrobacterium fabrum',\n",
    "    'Bacillus subtilis',\n",
    "    'Chlamydophila felis',\n",
    "    'Escherichia coli',\n",
    "    'Staphylococcus aureus',\n",
    "]\n",
    "\n",
    "eukaryots = [\n",
    "    'Arabidopsis thaliana',\n",
    "    'Caenorhabditis elegans',\n",
    "    'Dictyostelium discoideum',\n",
    "    'Drosophila melanogaster',\n",
    "    'Homo sapiens',\n",
    "    'Plasmodium falciparum',\n",
    "    'Saccharomyces cerevisiae',\n",
    "    'Schizosaccharomyces pombe',\n",
    "    'Tetrahymena thermophila',\n",
    "    'Trypanosoma cruzi',\n",
    "    'Volvox carteri',\n",
    "]"
   ]
  },
  {
   "cell_type": "code",
   "execution_count": null,
   "metadata": {
    "code_folding": [
     0
    ]
   },
   "outputs": [],
   "source": [
    "# IDs names\n",
    "try:\n",
    "    IDs_names = prwlr.get_IDs_names(bacteria + archea + eukaryots)\n",
    "except OSError:\n",
    "    IDs_names = {\n",
    "        'ape': 'Aeropyrum pernix',\n",
    "        'sis': 'Sulfolobus islandicus',\n",
    "        'atu': 'Agrobacterium fabrum',\n",
    "        'bsu': 'Bacillus subtilis',\n",
    "        'cfe': 'Chlamydophila felis',\n",
    "        'eco': 'Escherichia coli',\n",
    "        'sau': 'Staphylococcus aureus',\n",
    "        'ath': 'Arabidopsis thaliana',\n",
    "        'cel': 'Caenorhabditis elegans',\n",
    "        'ddi': 'Dictyostelium discoideum',\n",
    "        'dme': 'Drosophila melanogaster',\n",
    "        'hsa': 'Homo sapiens',\n",
    "        'pfa': 'Plasmodium falciparum',\n",
    "        'sce': 'Saccharomyces cerevisiae',\n",
    "        'spo': 'Schizosaccharomyces pombe',\n",
    "        'tet': 'Tetrahymena thermophila',\n",
    "        'tcr': 'Trypanosoma cruzi',\n",
    "        'vcn': 'Volvox carteri',\n",
    "    }"
   ]
  },
  {
   "cell_type": "markdown",
   "metadata": {},
   "source": [
    "<a class=anchor id=results_data></a>\n",
    "# Results data\n",
    "\n",
    "The results are saved in multiple files derived from analyses carried out with more than one package. Below they are combined and annotated with additional information."
   ]
  },
  {
   "cell_type": "markdown",
   "metadata": {},
   "source": [
    "<a class=anchor id=permutation_tests_results></a>\n",
    "## [Permutation tests results](https://bionas.ibb.waw.pl:5001/sharing/IIwMNhNmF)\n",
    "\n",
    "The data can be downloaded with the link above, clicked manually.\n",
    "\n",
    "Download the ```zip``` file into the ```CWD``` of this notebook and unzip it. If the download path is different, please adjust the ```PERMUTATION_TESTS_RESULTS_DIRECTORY``` constant accordingly - section [Constants](#constants)\n",
    "\n",
    "**The non-programmatical download is intended**"
   ]
  },
  {
   "cell_type": "markdown",
   "metadata": {},
   "source": [
    "<a class=anchor id=get_the_networks_organisms_names_from_the_results_filenames></a>\n",
    "### Get the networks organisms names from the results filenames"
   ]
  },
  {
   "cell_type": "code",
   "execution_count": null,
   "metadata": {
    "code_folding": [
     0
    ]
   },
   "outputs": [],
   "source": [
    "# organisms names\n",
    "ext = 'csv'\n",
    "_biogrid_orgs_lower = [\n",
    "    ' '.join(i.split('/')[-1].split('.')[0].split('_')[-2:])\n",
    "    for i in glob(f'{PERMUTATION_TESTS_RESULTS_DIRECTORY}*.{ext}')\n",
    "]\n",
    "biogrid_orgs = set([\n",
    "    ' '.join((i.split()[0].capitalize(), i.split()[1]))\n",
    "    for i in _biogrid_orgs_lower\n",
    "])\n",
    "del _biogrid_orgs_lower"
   ]
  },
  {
   "cell_type": "markdown",
   "metadata": {},
   "source": [
    "<a class=anchor id=prwlr-read-data></a>\n",
    "### Read"
   ]
  },
  {
   "cell_type": "markdown",
   "metadata": {},
   "source": [
    "<a class=anchor id=raw_numbers></a>\n",
    "#### Raw numbers\n",
    "\n",
    "**Mind that it allocates a lot of RAM: ~90GB**"
   ]
  },
  {
   "cell_type": "code",
   "execution_count": null,
   "metadata": {
    "code_folding": []
   },
   "outputs": [],
   "source": [
    "# raw numbers\n",
    "sep = '\\t'\n",
    "ext = 'csv'\n",
    "#Native values\n",
    "PHYS_native_prof_str = {\n",
    "    k: prwlr.read_network(\n",
    "        f\"{PERMUTATION_TESTS_RESULTS_DIRECTORY}PHYS_native_prof_str_{k.replace(' ', '_').lower()}.{ext}\",\n",
    "        index_col=[0],\n",
    "        sep=sep,\n",
    "    )\n",
    "    for k in biogrid_orgs\n",
    "}\n",
    "PHYS_native_prof_str_aff = {\n",
    "    k: prwlr.read_network(\n",
    "        f\"{PERMUTATION_TESTS_RESULTS_DIRECTORY}PHYS_native_prof_str_aff_{k.replace(' ', '_').lower()}.{ext}\",\n",
    "        index_col=[0],\n",
    "        sep=sep,\n",
    "    )\n",
    "    for k in biogrid_orgs\n",
    "}\n",
    "PHYS_native_prof_str_hyb = {\n",
    "    k: prwlr.read_network(\n",
    "        f\"{PERMUTATION_TESTS_RESULTS_DIRECTORY}PHYS_native_prof_str_hyb_{k.replace(' ', '_').lower()}.{ext}\",\n",
    "        index_col=[0],\n",
    "        sep=sep,\n",
    "    )\n",
    "    for k in biogrid_orgs\n",
    "}\n",
    "# Permuted values\n",
    "PHYS_permuted_prof_str = {\n",
    "    k: prwlr.read_network(\n",
    "        f\"{PERMUTATION_TESTS_RESULTS_DIRECTORY}PHYS_permuted_prof_str_{k.replace(' ', '_').lower()}.{ext}\",\n",
    "        index_col=[0],\n",
    "        sep=sep,\n",
    "    )\n",
    "    for k in biogrid_orgs\n",
    "}\n",
    "PHYS_permuted_prof_str_aff = {\n",
    "    k: prwlr.read_network(\n",
    "        f\"{PERMUTATION_TESTS_RESULTS_DIRECTORY}PHYS_permuted_prof_str_aff_{k.replace(' ', '_').lower()}.{ext}\",\n",
    "        index_col=[0],\n",
    "        sep=sep,\n",
    "    )\n",
    "    for k in biogrid_orgs\n",
    "}\n",
    "PHYS_permuted_prof_str_hyb = {\n",
    "    k: prwlr.read_network(\n",
    "        f\"{PERMUTATION_TESTS_RESULTS_DIRECTORY}PHYS_permuted_prof_str_hyb_{k.replace(' ', '_').lower()}.{ext}\",\n",
    "        index_col=[0],\n",
    "        sep=sep,\n",
    "    )\n",
    "    for k in biogrid_orgs\n",
    "}"
   ]
  },
  {
   "cell_type": "markdown",
   "metadata": {},
   "source": [
    "<a class=anchor id=pvalue></a>\n",
    "#### p-values"
   ]
  },
  {
   "cell_type": "code",
   "execution_count": null,
   "metadata": {
    "code_folding": [
     0
    ]
   },
   "outputs": [],
   "source": [
    "# p-values\n",
    "PHYS_native_permuted_prof_str_p_vals = {\n",
    "    k: prwlr.read_network(\n",
    "        f\"{PERMUTATION_TESTS_RESULTS_DIRECTORY}PHYS_native_permuted_prof_str_p_vals_{k.replace(' ', '_').lower()}.{ext}\",\n",
    "        index_col=[0],\n",
    "        sep=sep,\n",
    "    )\n",
    "    for k in biogrid_orgs\n",
    "}\n",
    "PHYS_native_permuted_prof_str_hyb_p_vals = {\n",
    "    k: prwlr.read_network(\n",
    "        f\"{PERMUTATION_TESTS_RESULTS_DIRECTORY}PHYS_native_permuted_prof_str_hyb_p_vals_{k.replace(' ', '_').lower()}.{ext}\",\n",
    "        index_col=[0],\n",
    "        sep=sep,\n",
    "    )\n",
    "    for k in biogrid_orgs\n",
    "}\n",
    "PHYS_native_permuted_prof_str_aff_p_vals = {\n",
    "    k: prwlr.read_network(\n",
    "        f\"{PERMUTATION_TESTS_RESULTS_DIRECTORY}PHYS_native_permuted_prof_str_aff_p_vals_{k.replace(' ', '_').lower()}.{ext}\",\n",
    "        index_col=[0],\n",
    "        sep=sep,\n",
    "    )\n",
    "    for k in biogrid_orgs\n",
    "}"
   ]
  },
  {
   "cell_type": "markdown",
   "metadata": {},
   "source": [
    "<a class=anchor id=transform_and_annotate></a>\n",
    "### Transform and annotate"
   ]
  },
  {
   "cell_type": "markdown",
   "metadata": {},
   "source": [
    "<a class=anchor id=merging_with_numerical_values></a>\n",
    "#### Merging with numerical values"
   ]
  },
  {
   "cell_type": "code",
   "execution_count": null,
   "metadata": {
    "code_folding": []
   },
   "outputs": [],
   "source": [
    "# Merging with numerical values\n",
    "PHYS_native_permuted_prof_str_p_vals_num_vals = {\n",
    "    k: pd.merge(\n",
    "        left=v,\n",
    "        right=PHYS_native_permuted_prof_str_p_vals[k],\n",
    "        on=[prwlr.Columns.PROF_Q, prwlr.Columns.PROF_A]\n",
    "    )\n",
    "    for k, v in PHYS_native_prof_str.items()\n",
    "}\n",
    "PHYS_native_permuted_prof_str_aff_p_vals_num_vals = {\n",
    "    k: pd.merge(\n",
    "        left=v,\n",
    "        right=PHYS_native_permuted_prof_str_aff_p_vals[k],\n",
    "        on=[prwlr.Columns.PROF_Q, prwlr.Columns.PROF_A]\n",
    "    )\n",
    "    for k, v in PHYS_native_prof_str_aff.items()\n",
    "}\n",
    "PHYS_native_permuted_prof_str_hyb_p_vals_num_vals = {\n",
    "    k: pd.merge(\n",
    "        left=v,\n",
    "        right=PHYS_native_permuted_prof_str_hyb_p_vals[k],\n",
    "        on=[prwlr.Columns.PROF_Q, prwlr.Columns.PROF_A]\n",
    "    )\n",
    "    for k, v in PHYS_native_prof_str_hyb.items()\n",
    "}"
   ]
  },
  {
   "cell_type": "markdown",
   "metadata": {},
   "source": [
    "<a class=anchor id=mark_which_direction_the_native_values_are_tailed></a>\n",
    "#### Mark which direction the native values are tailed"
   ]
  },
  {
   "cell_type": "code",
   "execution_count": null,
   "metadata": {
    "code_folding": [
     0
    ]
   },
   "outputs": [],
   "source": [
    "# Mark which direction the native values are tailed\n",
    "for v in PHYS_native_permuted_prof_str_p_vals_num_vals.values():\n",
    "    v['result_direction'] = v.apply(mark_result_direction, axis=1)\n",
    "for v in PHYS_native_permuted_prof_str_aff_p_vals_num_vals.values():\n",
    "    v['result_direction'] = v.apply(mark_result_direction, axis=1)\n",
    "for v in PHYS_native_permuted_prof_str_hyb_p_vals_num_vals.values():\n",
    "    v['result_direction'] = v.apply(mark_result_direction, axis=1)"
   ]
  },
  {
   "cell_type": "markdown",
   "metadata": {},
   "source": [
    "<a class=anchor id=taxonomical_annotations></a>\n",
    "#### Taxonomical annotations"
   ]
  },
  {
   "cell_type": "code",
   "execution_count": null,
   "metadata": {
    "code_folding": [
     0
    ]
   },
   "outputs": [],
   "source": [
    "# Taxonomical annotations\n",
    "\n",
    "# Make the taxonomical bins fixed so it suits the apply method well and eliminates typo errors\n",
    "assign_taxonomy_fixed_taxa = partial(assign_taxonomy, archea=archea, bacteria=bacteria, eukaryots=eukaryots)\n",
    "# Deep copy the dataframes\n",
    "PHYS_native_permuted_prof_str_p_vals_annotations = {\n",
    "    k: v.copy()\n",
    "    for k, v in PHYS_native_permuted_prof_str_p_vals_num_vals.items()\n",
    "}\n",
    "\n",
    "PHYS_native_permuted_prof_str_aff_p_vals_annotations = {\n",
    "    k: v.copy()\n",
    "    for k, v in PHYS_native_permuted_prof_str_aff_p_vals_num_vals.items()\n",
    "}\n",
    "\n",
    "PHYS_native_permuted_prof_str_hyb_p_vals_annotations = {\n",
    "    k: v.copy()\n",
    "    for k, v in PHYS_native_permuted_prof_str_hyb_p_vals_num_vals.items()\n",
    "}\n",
    "# Extract taxonomy data from the profiles and save it to another to column\n",
    "for v in PHYS_native_permuted_prof_str_p_vals_annotations.values():\n",
    "    v['taxonomy_Q'] = v['PROF_Q'].apply(assign_taxonomy_fixed_taxa)\n",
    "    v['taxonomy_A'] = v['PROF_A'].apply(assign_taxonomy_fixed_taxa)\n",
    "\n",
    "for v in PHYS_native_permuted_prof_str_aff_p_vals_annotations.values():\n",
    "    v['taxonomy_Q'] = v['PROF_Q'].apply(assign_taxonomy_fixed_taxa)\n",
    "    v['taxonomy_A'] = v['PROF_A'].apply(assign_taxonomy_fixed_taxa)\n",
    "\n",
    "for v in PHYS_native_permuted_prof_str_hyb_p_vals_annotations.values():\n",
    "    v['taxonomy_Q'] = v['PROF_Q'].apply(assign_taxonomy_fixed_taxa)\n",
    "    v['taxonomy_A'] = v['PROF_A'].apply(assign_taxonomy_fixed_taxa)\n",
    "# Convert and transform taxonomy data into a single string\n",
    "for v in PHYS_native_permuted_prof_str_p_vals_annotations.values():\n",
    "    v['taxa_Q'] = v['PROF_Q'].apply(lambda x: '|'.join(x.get_present()))\n",
    "    v['taxa_A'] = v['PROF_A'].apply(lambda x: '|'.join(x.get_present()))\n",
    "\n",
    "for v in PHYS_native_permuted_prof_str_aff_p_vals_annotations.values():\n",
    "    v['taxa_Q'] = v['PROF_Q'].apply(lambda x: '|'.join(x.get_present()))\n",
    "    v['taxa_A'] = v['PROF_A'].apply(lambda x: '|'.join(x.get_present()))\n",
    "\n",
    "for v in PHYS_native_permuted_prof_str_hyb_p_vals_annotations.values():\n",
    "    v['taxa_Q'] = v['PROF_Q'].apply(lambda x: '|'.join(x.get_present()))\n",
    "    v['taxa_A'] = v['PROF_A'].apply(lambda x: '|'.join(x.get_present()))\n",
    "\n",
    "for v in PHYS_native_permuted_prof_str_p_vals_annotations.values():\n",
    "    v['PROF_Q'] = v['PROF_Q'].apply(lambda x: x.to_string())\n",
    "    v['PROF_A'] = v['PROF_A'].apply(lambda x: x.to_string())\n",
    "    v['taxonomy_common'] = (v['taxonomy_Q'] == v['taxonomy_A'])\n",
    "\n",
    "for v in PHYS_native_permuted_prof_str_aff_p_vals_annotations.values():\n",
    "    v['PROF_Q'] = v['PROF_Q'].apply(lambda x: x.to_string())\n",
    "    v['PROF_A'] = v['PROF_A'].apply(lambda x: x.to_string())\n",
    "    v['taxonomy_common'] = (v['taxonomy_Q'] == v['taxonomy_A'])\n",
    "\n",
    "for v in PHYS_native_permuted_prof_str_hyb_p_vals_annotations.values():\n",
    "    v['PROF_Q'] = v['PROF_Q'].apply(lambda x: x.to_string())\n",
    "    v['PROF_A'] = v['PROF_A'].apply(lambda x: x.to_string())\n",
    "    v['taxonomy_common'] = (v['taxonomy_Q'] == v['taxonomy_A'])"
   ]
  },
  {
   "cell_type": "markdown",
   "metadata": {},
   "source": [
    "<a class=anchor id=drop_columns_no_longer_neccessary></a>\n",
    "#### Drop columns no longer neccessary"
   ]
  },
  {
   "cell_type": "code",
   "execution_count": null,
   "metadata": {
    "code_folding": [
     0
    ]
   },
   "outputs": [],
   "source": [
    "# Drop columns no longer neccessary\n",
    "columns = [\n",
    "    'INTERACTION',\n",
    "    'native_higher',\n",
    "    'native_lower',\n",
    "    'inter_sum',\n",
    "    'inter_number',\n",
    "    'per_number',\n",
    "    'p-value',\n",
    "]\n",
    "for v in PHYS_native_permuted_prof_str_p_vals_annotations.values():\n",
    "    v.drop(columns=columns, inplace=True)\n",
    "for v in PHYS_native_permuted_prof_str_aff_p_vals_annotations.values():\n",
    "    v.drop(columns=columns, inplace=True)\n",
    "for v in PHYS_native_permuted_prof_str_hyb_p_vals_annotations.values():\n",
    "    v.drop(columns=columns, inplace=True)"
   ]
  },
  {
   "cell_type": "markdown",
   "metadata": {},
   "source": [
    "<a class=anchor id=drop_duplicates></a>\n",
    "#### Drop duplicates"
   ]
  },
  {
   "cell_type": "code",
   "execution_count": null,
   "metadata": {
    "code_folding": [
     0
    ]
   },
   "outputs": [],
   "source": [
    "# Drop duplicates\n",
    "for v in PHYS_native_permuted_prof_str_p_vals_annotations.values():\n",
    "    v.drop_duplicates(inplace=True)\n",
    "for v in PHYS_native_permuted_prof_str_aff_p_vals_annotations.values():\n",
    "    v.drop_duplicates(inplace=True)\n",
    "for v in PHYS_native_permuted_prof_str_hyb_p_vals_annotations.values():\n",
    "    v.drop_duplicates(inplace=True)"
   ]
  },
  {
   "cell_type": "markdown",
   "metadata": {},
   "source": [
    "<a class=anchor id=save_annotated_results_to_files></a>\n",
    "#### Save annotated results to CSV files"
   ]
  },
  {
   "cell_type": "code",
   "execution_count": null,
   "metadata": {
    "code_folding": [
     0
    ]
   },
   "outputs": [],
   "source": [
    "# Save to CSV\n",
    "for k, v in PHYS_native_permuted_prof_str_p_vals_annotations.items():\n",
    "    v.to_csv(f\"./tmp/PHYS_native_permuted_prof_str_p_vals_annotations_{k.replace(' ', '_').lower()}.csv\", sep='\\t')\n",
    "for k, v in PHYS_native_permuted_prof_str_aff_p_vals_annotations.items():\n",
    "    v.to_csv(f\"./tmp/PHYS_native_permuted_prof_str_aff_p_vals_annotations_{k.replace(' ', '_').lower()}.csv\", sep='\\t')\n",
    "for k, v in PHYS_native_permuted_prof_str_hyb_p_vals_annotations.items():\n",
    "    v.to_csv(f\"./tmp/PHYS_native_permuted_prof_str_hyb_p_vals_annotations_{k.replace(' ', '_').lower()}.csv\", sep='\\t')"
   ]
  },
  {
   "cell_type": "markdown",
   "metadata": {},
   "source": [
    "<a class=anchor id=network_enrichment_analysis_test_results></a>\n",
    "## [Network Enrichment Analysis Test results (```r-neat``` package)](https://bionas.ibb.waw.pl:5001/sharing/KKJcCl3KI)\n",
    "\n",
    "The data can be downloaded with the link above, clicked manually.\n",
    "\n",
    "Download the ```zip``` file into the ```CWD``` of this notebook and unzip it. If the download path is different, please adjust the ```R_NEAT_RESULTS_PATH``` constant accordingly - section [Constants](#constants)\n",
    "\n",
    "**The non-programmatical download is intended**"
   ]
  },
  {
   "cell_type": "markdown",
   "metadata": {},
   "source": [
    "<a class=anchor id=r-neat-read></a>\n",
    "### Read"
   ]
  },
  {
   "cell_type": "code",
   "execution_count": null,
   "metadata": {
    "code_folding": [
     0
    ]
   },
   "outputs": [],
   "source": [
    "# Read r-neat results\n",
    "# No selection\n",
    "r_neat_results = {\n",
    "    k: pd.read_csv(f\"{R_NEAT_RESULTS_PATH}PHYS-{k}-r-neat.csv\", sep=sep)\n",
    "    for k in (i.replace(' ', '_') for i in biogrid_orgs)\n",
    "}\n",
    "# Affinity Binding\n",
    "r_neat_results_aff = {\n",
    "    k: pd.read_csv(f\"{R_NEAT_RESULTS_PATH}PHYS-{k}_aff-r-neat.csv\", sep=sep)\n",
    "    for k in (i.replace(' ', '_') for i in biogrid_orgs)\n",
    "}\n",
    "# Two Hybrid\n",
    "r_neat_results_hyb = {\n",
    "    k: pd.read_csv(f\"{R_NEAT_RESULTS_PATH}PHYS-{k}_hyb-r-neat.csv\", sep=sep)\n",
    "    for k in (i.replace(' ', '_') for i in biogrid_orgs)\n",
    "}"
   ]
  },
  {
   "cell_type": "markdown",
   "metadata": {},
   "source": [
    "<a class=anchor id=combined_results_of_permutatation_tests_and_neat></a>\n",
    "## Combined results of permutation tests and NEAT"
   ]
  },
  {
   "cell_type": "markdown",
   "metadata": {},
   "source": [
    "<a class=anchor id=combined-merge></a>\n",
    "### Merge"
   ]
  },
  {
   "cell_type": "code",
   "execution_count": null,
   "metadata": {
    "code_folding": [
     0
    ]
   },
   "outputs": [],
   "source": [
    "# Merge r-neat results and prwlr results\n",
    "# No interactions detection method filter\n",
    "r_neat_results_prwlr_results = {\n",
    "    k: pd.merge(\n",
    "        left=PHYS_native_permuted_prof_str_p_vals_annotations[k.replace('_', ' ')],\n",
    "        right=v,\n",
    "        left_on=[prwlr.Columns.PROF_Q, prwlr.Columns.PROF_A],\n",
    "        right_on=['A', 'B'],\n",
    "    )\n",
    "    for k, v in r_neat_results.items()\n",
    "}\n",
    "# Affinity Binding\n",
    "r_neat_results_prwlr_results_aff = {\n",
    "    k: pd.merge(\n",
    "        left=PHYS_native_permuted_prof_str_aff_p_vals_annotations[k.replace('_', ' ')],\n",
    "        right=v,\n",
    "        left_on=[prwlr.Columns.PROF_Q, prwlr.Columns.PROF_A],\n",
    "        right_on=['A', 'B'],\n",
    "    )\n",
    "    for k, v in r_neat_results_aff.items()\n",
    "}\n",
    "# Two hybrid\n",
    "r_neat_results_prwlr_results_hyb = {\n",
    "    k: pd.merge(\n",
    "        left=PHYS_native_permuted_prof_str_hyb_p_vals_annotations[k.replace('_', ' ')],\n",
    "        right=v,\n",
    "        left_on=[prwlr.Columns.PROF_Q, prwlr.Columns.PROF_A],\n",
    "        right_on=['A', 'B'],\n",
    "    )\n",
    "    for k, v in r_neat_results_hyb.items()\n",
    "}"
   ]
  },
  {
   "cell_type": "markdown",
   "metadata": {},
   "source": [
    "<a class=anchor id=combined-save></a>\n",
    "### Save"
   ]
  },
  {
   "cell_type": "code",
   "execution_count": null,
   "metadata": {
    "code_folding": []
   },
   "outputs": [],
   "source": [
    "# Save\n",
    "for k, v in r_neat_results_prwlr_results.items():\n",
    "    v.to_csv(\n",
    "        f\"{R_NEAT_PRWLR_JOINED_PATH}r_neat_results_prwlr_results_{k}.csv\",\n",
    "        sep=sep,\n",
    "    )\n",
    "\n",
    "for k, v in r_neat_results_prwlr_results_aff.items():\n",
    "    v.to_csv(\n",
    "        f\"{R_NEAT_PRWLR_JOINED_PATH}r_neat_results_prwlr_results_aff_{k}.csv\",\n",
    "        sep=sep,\n",
    "    )\n",
    "\n",
    "for k, v in r_neat_results_prwlr_results_hyb.items():\n",
    "    v.to_csv(\n",
    "        f\"{R_NEAT_PRWLR_JOINED_PATH}r_neat_results_prwlr_results_hyb_{k}.csv\",\n",
    "        sep=sep,\n",
    "    )"
   ]
  },
  {
   "cell_type": "markdown",
   "metadata": {},
   "source": [
    "<a class=anchor id=plotting></a>\n",
    "# Plotting"
   ]
  },
  {
   "cell_type": "markdown",
   "metadata": {},
   "source": [
    "<a class=anchor id=combined-to-dot></a>\n",
    "## Convert combined results to ```dot``` files\n",
    "\n",
    "The attributes for the dot file in order to draw the graph using the ```graphviz```:\n",
    "\n",
    "- edge witdth:\n",
    "    - source column: ```inter_perc```\n",
    "    - target attribute: ```penwidth```\n",
    "    - values: supposed to be an integer so the value must be multiplied by 100\n",
    "- edge color:\n",
    "    - source column: ```result_direction```\n",
    "    - target attribute: ```color```\n",
    "    - values: ```green``` for higher, ```red``` for ```lower```, ```grey``` for insignificant\n",
    "- edge style:\n",
    "    - source column: ```taxonomy_common```\n",
    "    - target attribute: ```style```\n",
    "    - values: ```dashed``` for ```False```, ```solid``` for ```True```\n",
    "\n",
    "- edge label:\n",
    "    - significance reported by the ```r-neat``` package can be marked with ```*```\n",
    "\n",
    "- nodes si\n",
    "Modifications for avoiding the syntax errors:\n",
    "\n",
    "- replace empty strings with something, eg ```empty``` or ```no_ortholog```"
   ]
  },
  {
   "cell_type": "markdown",
   "metadata": {},
   "source": [
    "<a class=anchor id=plotting-read></a>\n",
    "### Read"
   ]
  },
  {
   "cell_type": "code",
   "execution_count": null,
   "metadata": {},
   "outputs": [],
   "source": [
    "# Read\n",
    "# No interaction detection method selection\n",
    "r_neat_results_prwlr_results = {\n",
    "    k.replace(' ', '_'): pd.read_csv(\n",
    "        f\"{R_NEAT_PRWLR_JOINED_PATH}r_neat_results_prwlr_results_{k.replace(' ', '_')}.csv\",\n",
    "        sep=sep,\n",
    "        index_col=[0],\n",
    "    ).fillna({k: 'no-ortholog' for k in {'taxa_Q', 'taxa_A'}})\n",
    "    for k in biogrid_orgs\n",
    "}\n",
    "# Affinity Binding\n",
    "r_neat_results_prwlr_results_aff = {\n",
    "    k.replace(' ', '_'): pd.read_csv(\n",
    "        f\"{R_NEAT_PRWLR_JOINED_PATH}r_neat_results_prwlr_results_aff_{k.replace(' ', '_')}.csv\",\n",
    "        sep=sep,\n",
    "        index_col=[0],\n",
    "    ).fillna({k: 'no-ortholog' for k in {'taxa_Q', 'taxa_A'}})\n",
    "    for k in biogrid_orgs\n",
    "}\n",
    "# Two-hybrid selection\n",
    "r_neat_results_prwlr_results_hyb = {\n",
    "    k.replace(' ', '_'): pd.read_csv(\n",
    "        f\"{R_NEAT_PRWLR_JOINED_PATH}r_neat_results_prwlr_results_hyb_{k.replace(' ', '_')}.csv\",\n",
    "        sep=sep,\n",
    "        index_col=[0],\n",
    "    ).fillna({k: 'no-ortholog' for k in {'taxa_Q', 'taxa_A'}})\n",
    "    for k in biogrid_orgs\n",
    "}"
   ]
  },
  {
   "cell_type": "markdown",
   "metadata": {},
   "source": [
    "<a class=anchor id=plotting-save></a>\n",
    "### Save"
   ]
  },
  {
   "cell_type": "code",
   "execution_count": null,
   "metadata": {
    "code_folding": []
   },
   "outputs": [],
   "source": [
    "# Convert dataframes to dot files\n",
    "for k, v in r_neat_results_prwlr_results.items():\n",
    "    df2dot(\n",
    "        v.rename(columns={'pvalue': 'label'}),\n",
    "        f\"{R_NEAT_PRWLR_JOINED_PLOTS_PATH}r_neat_results_prwlr_results_{k}.dot\",\n",
    "    )\n",
    "\n",
    "for k, v in r_neat_results_prwlr_results_aff.items():\n",
    "    df2dot(\n",
    "        v.rename(columns={'pvalue': 'label'}),\n",
    "        f\"{R_NEAT_PRWLR_JOINED_PLOTS_PATH}r_neat_results_prwlr_results_aff_{k}.dot\",\n",
    "    )\n",
    "\n",
    "for k, v in r_neat_results_prwlr_results_hyb.items():\n",
    "    df2dot(\n",
    "        v.rename(columns={'pvalue': 'label'}),\n",
    "        f\"{R_NEAT_PRWLR_JOINED_PLOTS_PATH}r_neat_results_prwlr_results_hyb_{k}.dot\",\n",
    "    )"
   ]
  },
  {
   "cell_type": "markdown",
   "metadata": {},
   "source": [
    "<a class=anchor id=dot-to-png></a>\n",
    "## Convert ```dot``` to ```png```\n",
    "\n",
    "**IMPORTANT NOTE**\n",
    "\n",
    "```R_NEAT_PRWLR_JOINED_PLOTS_PATH``` variable defined in the ```Python``` namespace is not available in the ```Bash``` namespace. Thus, it must be defined separately within the cell containing the ```Bash``` call"
   ]
  },
  {
   "cell_type": "code",
   "execution_count": null,
   "metadata": {
    "code_folding": []
   },
   "outputs": [],
   "source": [
    "%%bash\n",
    "\n",
    "R_NEAT_PRWLR_JOINED_PLOTS_PATH='./presentation-main-data/physical-interactions-no-ko-dups-removal-plots/'\n",
    "\n",
    "for i in ${R_NEAT_PRWLR_JOINED_PLOTS_PATH}*dot; do\n",
    "    dot -T png ${i} > ${i}.png;\n",
    "done"
   ]
  }
 ],
 "metadata": {
  "kernelspec": {
   "display_name": "Python [conda env:prwlr_UPD126]",
   "language": "python",
   "name": "conda-env-prwlr_UPD126-py"
  },
  "language_info": {
   "codemirror_mode": {
    "name": "ipython",
    "version": 3
   },
   "file_extension": ".py",
   "mimetype": "text/x-python",
   "name": "python",
   "nbconvert_exporter": "python",
   "pygments_lexer": "ipython3",
   "version": "3.7.3"
  }
 },
 "nbformat": 4,
 "nbformat_minor": 2
}
